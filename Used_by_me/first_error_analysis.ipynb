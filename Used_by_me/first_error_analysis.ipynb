{
 "cells": [
  {
   "cell_type": "code",
   "execution_count": 1,
   "metadata": {},
   "outputs": [],
   "source": [
    "import pandas as pd\n",
    "import datetime\n",
    "from sklearn.metrics import adjusted_rand_score"
   ]
  },
  {
   "attachments": {},
   "cell_type": "markdown",
   "metadata": {},
   "source": [
    "# Speaker tags per character"
   ]
  },
  {
   "cell_type": "code",
   "execution_count": 4,
   "metadata": {},
   "outputs": [],
   "source": [
    "df = pd.read_csv(\"/home/ada/Documents/DTA/Thesis/Data/preliminary_errorAnalysis_punisher.csv\")"
   ]
  },
  {
   "cell_type": "code",
   "execution_count": 5,
   "metadata": {},
   "outputs": [
    {
     "name": "stderr",
     "output_type": "stream",
     "text": [
      "/tmp/ipykernel_102269/3102052366.py:3: SettingWithCopyWarning: \n",
      "A value is trying to be set on a copy of a slice from a DataFrame.\n",
      "Try using .loc[row_indexer,col_indexer] = value instead\n",
      "\n",
      "See the caveats in the documentation: https://pandas.pydata.org/pandas-docs/stable/user_guide/indexing.html#returning-a-view-versus-a-copy\n",
      "  filtered_df['Actual'] = filtered_df['Actual'].str.replace('tied up man','Micro')\n"
     ]
    }
   ],
   "source": [
    "df = df[['Speaker', 'Actual']]\n",
    "filtered_df = df[df['Actual'].notnull()]\n",
    "filtered_df['Actual'] = filtered_df['Actual'].str.replace('tied up man','Micro')\n",
    "no_none = filtered_df.drop(filtered_df[filtered_df.Actual == \"none\"].index)"
   ]
  },
  {
   "cell_type": "code",
   "execution_count": 6,
   "metadata": {},
   "outputs": [
    {
     "data": {
      "text/plain": [
       "<AxesSubplot: title={'center': 'Speaker tags per character'}, xlabel='Character'>"
      ]
     },
     "execution_count": 6,
     "metadata": {},
     "output_type": "execute_result"
    },
    {
     "data": {
      "image/png": "[encoded data removed]",
      "text/plain": [
       "<Figure size 640x480 with 1 Axes>"
      ]
     },
     "metadata": {},
     "output_type": "display_data"
    }
   ],
   "source": [
    "ax = pd.crosstab(no_none['Actual'],no_none['Speaker']).plot.bar(xlabel='Character', title='Speaker tags per character')\n",
    "ax"
   ]
  },
  {
   "cell_type": "code",
   "execution_count": 75,
   "metadata": {},
   "outputs": [],
   "source": [
    "#ax.figure.savefig('/home/ada/Documents/DTA/Thesis/Data/the_punisher_E3_plot.png')"
   ]
  },
  {
   "attachments": {},
   "cell_type": "markdown",
   "metadata": {},
   "source": [
    "# Adjusted Rand Index"
   ]
  },
  {
   "cell_type": "code",
   "execution_count": 10,
   "metadata": {},
   "outputs": [],
   "source": [
    "speaker = filtered_df['Speaker'].tolist()\n",
    "actual = filtered_df['Actual'].tolist()"
   ]
  },
  {
   "cell_type": "code",
   "execution_count": 12,
   "metadata": {},
   "outputs": [
    {
     "data": {
      "text/plain": [
       "0.3330668625770543"
      ]
     },
     "execution_count": 12,
     "metadata": {},
     "output_type": "execute_result"
    }
   ],
   "source": [
    "adjusted_rand_score(speaker, actual)"
   ]
  },
  {
   "cell_type": "code",
   "execution_count": 13,
   "metadata": {},
   "outputs": [],
   "source": [
    "speaker = no_none['Speaker'].tolist()\n",
    "actual = no_none['Actual'].tolist()"
   ]
  },
  {
   "cell_type": "code",
   "execution_count": 14,
   "metadata": {},
   "outputs": [
    {
     "data": {
      "text/plain": [
       "0.2899481509894973"
      ]
     },
     "execution_count": 14,
     "metadata": {},
     "output_type": "execute_result"
    }
   ],
   "source": [
    "adjusted_rand_score(speaker, actual)"
   ]
  },
  {
   "attachments": {},
   "cell_type": "markdown",
   "metadata": {},
   "source": [
    "# Segment Length Analysis"
   ]
  },
  {
   "cell_type": "code",
   "execution_count": 15,
   "metadata": {},
   "outputs": [],
   "source": [
    "df = pd.read_csv(\"/home/ada/Documents/DTA/Thesis/Data/S01E03_formatted.csv\")\n",
    "df = df[df['Actual'].notnull()]\n",
    "df['Actual'] = df['Actual'].str.replace('tied up man','Micro')\n",
    "df = df.drop(df[df.Actual == \"none\"].index)"
   ]
  },
  {
   "cell_type": "code",
   "execution_count": 16,
   "metadata": {},
   "outputs": [
    {
     "data": {
      "text/html": [
       "<div>\n",
       "<style scoped>\n",
       "    .dataframe tbody tr th:only-of-type {\n",
       "        vertical-align: middle;\n",
       "    }\n",
       "\n",
       "    .dataframe tbody tr th {\n",
       "        vertical-align: top;\n",
       "    }\n",
       "\n",
       "    .dataframe thead th {\n",
       "        text-align: right;\n",
       "    }\n",
       "</style>\n",
       "<table border=\"1\" class=\"dataframe\">\n",
       "  <thead>\n",
       "    <tr style=\"text-align: right;\">\n",
       "      <th></th>\n",
       "      <th>Start</th>\n",
       "      <th>Stop</th>\n",
       "      <th>Unnamed: 2</th>\n",
       "      <th>Start_formatted</th>\n",
       "      <th>Stop_formatted</th>\n",
       "      <th>Speaker</th>\n",
       "      <th>Actual</th>\n",
       "      <th>Clarity</th>\n",
       "    </tr>\n",
       "  </thead>\n",
       "  <tbody>\n",
       "    <tr>\n",
       "      <th>1</th>\n",
       "      <td>19.465312</td>\n",
       "      <td>19.617188</td>\n",
       "      <td>NaN</td>\n",
       "      <td>0 days 00:00:19.465312</td>\n",
       "      <td>0 days 00:00:19.617188</td>\n",
       "      <td>7</td>\n",
       "      <td>Micro</td>\n",
       "      <td>Non-verbal</td>\n",
       "    </tr>\n",
       "    <tr>\n",
       "      <th>2</th>\n",
       "      <td>37.352812</td>\n",
       "      <td>37.943438</td>\n",
       "      <td>NaN</td>\n",
       "      <td>0 days 00:00:37.352813</td>\n",
       "      <td>0 days 00:00:37.943438</td>\n",
       "      <td>6</td>\n",
       "      <td>Micro</td>\n",
       "      <td>NaN</td>\n",
       "    </tr>\n",
       "    <tr>\n",
       "      <th>3</th>\n",
       "      <td>40.356563</td>\n",
       "      <td>43.377187</td>\n",
       "      <td>NaN</td>\n",
       "      <td>0 days 00:00:40.356563</td>\n",
       "      <td>0 days 00:00:43.377188</td>\n",
       "      <td>13</td>\n",
       "      <td>Micro</td>\n",
       "      <td>NaN</td>\n",
       "    </tr>\n",
       "    <tr>\n",
       "      <th>4</th>\n",
       "      <td>45.284062</td>\n",
       "      <td>51.122813</td>\n",
       "      <td>NaN</td>\n",
       "      <td>0 days 00:00:45.284063</td>\n",
       "      <td>0 days 00:00:51.122813</td>\n",
       "      <td>6</td>\n",
       "      <td>Micro</td>\n",
       "      <td>NaN</td>\n",
       "    </tr>\n",
       "    <tr>\n",
       "      <th>5</th>\n",
       "      <td>52.793438</td>\n",
       "      <td>57.602812</td>\n",
       "      <td>NaN</td>\n",
       "      <td>0 days 00:00:52.793438</td>\n",
       "      <td>0 days 00:00:57.602813</td>\n",
       "      <td>6</td>\n",
       "      <td>Micro</td>\n",
       "      <td>NaN</td>\n",
       "    </tr>\n",
       "    <tr>\n",
       "      <th>...</th>\n",
       "      <td>...</td>\n",
       "      <td>...</td>\n",
       "      <td>...</td>\n",
       "      <td>...</td>\n",
       "      <td>...</td>\n",
       "      <td>...</td>\n",
       "      <td>...</td>\n",
       "      <td>...</td>\n",
       "    </tr>\n",
       "    <tr>\n",
       "      <th>71</th>\n",
       "      <td>397.279688</td>\n",
       "      <td>397.988437</td>\n",
       "      <td>NaN</td>\n",
       "      <td>0 days 00:06:37.279688</td>\n",
       "      <td>0 days 00:06:37.988437</td>\n",
       "      <td>18</td>\n",
       "      <td>Frank</td>\n",
       "      <td>NaN</td>\n",
       "    </tr>\n",
       "    <tr>\n",
       "      <th>72</th>\n",
       "      <td>408.417188</td>\n",
       "      <td>412.737188</td>\n",
       "      <td>NaN</td>\n",
       "      <td>0 days 00:06:48.417188</td>\n",
       "      <td>0 days 00:06:52.737188</td>\n",
       "      <td>18</td>\n",
       "      <td>Frank</td>\n",
       "      <td>NaN</td>\n",
       "    </tr>\n",
       "    <tr>\n",
       "      <th>73</th>\n",
       "      <td>413.344688</td>\n",
       "      <td>415.015312</td>\n",
       "      <td>NaN</td>\n",
       "      <td>0 days 00:06:53.344688</td>\n",
       "      <td>0 days 00:06:55.015313</td>\n",
       "      <td>18</td>\n",
       "      <td>Frank</td>\n",
       "      <td>NaN</td>\n",
       "    </tr>\n",
       "    <tr>\n",
       "      <th>74</th>\n",
       "      <td>425.005313</td>\n",
       "      <td>426.000938</td>\n",
       "      <td>NaN</td>\n",
       "      <td>0 days 00:07:05.005313</td>\n",
       "      <td>0 days 00:07:06.000938</td>\n",
       "      <td>13</td>\n",
       "      <td>Micro</td>\n",
       "      <td>NaN</td>\n",
       "    </tr>\n",
       "    <tr>\n",
       "      <th>75</th>\n",
       "      <td>427.570312</td>\n",
       "      <td>429.645938</td>\n",
       "      <td>NaN</td>\n",
       "      <td>0 days 00:07:07.570313</td>\n",
       "      <td>0 days 00:07:09.645938</td>\n",
       "      <td>13</td>\n",
       "      <td>Micro</td>\n",
       "      <td>NaN</td>\n",
       "    </tr>\n",
       "  </tbody>\n",
       "</table>\n",
       "<p>69 rows × 8 columns</p>\n",
       "</div>"
      ],
      "text/plain": [
       "         Start        Stop  Unnamed: 2         Start_formatted  \\\n",
       "1    19.465312   19.617188         NaN  0 days 00:00:19.465312   \n",
       "2    37.352812   37.943438         NaN  0 days 00:00:37.352813   \n",
       "3    40.356563   43.377187         NaN  0 days 00:00:40.356563   \n",
       "4    45.284062   51.122813         NaN  0 days 00:00:45.284063   \n",
       "5    52.793438   57.602812         NaN  0 days 00:00:52.793438   \n",
       "..         ...         ...         ...                     ...   \n",
       "71  397.279688  397.988437         NaN  0 days 00:06:37.279688   \n",
       "72  408.417188  412.737188         NaN  0 days 00:06:48.417188   \n",
       "73  413.344688  415.015312         NaN  0 days 00:06:53.344688   \n",
       "74  425.005313  426.000938         NaN  0 days 00:07:05.005313   \n",
       "75  427.570312  429.645938         NaN  0 days 00:07:07.570313   \n",
       "\n",
       "            Stop_formatted  Speaker Actual     Clarity  \n",
       "1   0 days 00:00:19.617188        7  Micro  Non-verbal  \n",
       "2   0 days 00:00:37.943438        6  Micro         NaN  \n",
       "3   0 days 00:00:43.377188       13  Micro         NaN  \n",
       "4   0 days 00:00:51.122813        6  Micro         NaN  \n",
       "5   0 days 00:00:57.602813        6  Micro         NaN  \n",
       "..                     ...      ...    ...         ...  \n",
       "71  0 days 00:06:37.988437       18  Frank         NaN  \n",
       "72  0 days 00:06:52.737188       18  Frank         NaN  \n",
       "73  0 days 00:06:55.015313       18  Frank         NaN  \n",
       "74  0 days 00:07:06.000938       13  Micro         NaN  \n",
       "75  0 days 00:07:09.645938       13  Micro         NaN  \n",
       "\n",
       "[69 rows x 8 columns]"
      ]
     },
     "execution_count": 16,
     "metadata": {},
     "output_type": "execute_result"
    }
   ],
   "source": [
    "df"
   ]
  },
  {
   "cell_type": "code",
   "execution_count": 17,
   "metadata": {},
   "outputs": [],
   "source": [
    "# Making dataframe of all instances where Micro was tagged as 6 and Frank as 18, since this was the most common tag for either and therefore \"correct\"\n",
    "correct_Micro = df[(df['Actual'] == \"Micro\") & (df['Speaker'] == 6)]\n",
    "correct_Frank = df[(df['Actual'] == \"Frank\") & (df['Speaker'] == 18)]\n",
    "correct = pd.concat([correct_Micro, correct_Frank])"
   ]
  },
  {
   "cell_type": "code",
   "execution_count": 18,
   "metadata": {},
   "outputs": [
    {
     "data": {
      "text/html": [
       "<div>\n",
       "<style scoped>\n",
       "    .dataframe tbody tr th:only-of-type {\n",
       "        vertical-align: middle;\n",
       "    }\n",
       "\n",
       "    .dataframe tbody tr th {\n",
       "        vertical-align: top;\n",
       "    }\n",
       "\n",
       "    .dataframe thead th {\n",
       "        text-align: right;\n",
       "    }\n",
       "</style>\n",
       "<table border=\"1\" class=\"dataframe\">\n",
       "  <thead>\n",
       "    <tr style=\"text-align: right;\">\n",
       "      <th></th>\n",
       "      <th>Start</th>\n",
       "      <th>Stop</th>\n",
       "      <th>Unnamed: 2</th>\n",
       "      <th>Start_formatted</th>\n",
       "      <th>Stop_formatted</th>\n",
       "      <th>Speaker</th>\n",
       "      <th>Actual</th>\n",
       "      <th>Clarity</th>\n",
       "    </tr>\n",
       "  </thead>\n",
       "  <tbody>\n",
       "    <tr>\n",
       "      <th>0</th>\n",
       "      <td>19.465312</td>\n",
       "      <td>19.617188</td>\n",
       "      <td>NaN</td>\n",
       "      <td>0 days 00:00:19.465312</td>\n",
       "      <td>0 days 00:00:19.617188</td>\n",
       "      <td>7</td>\n",
       "      <td>Micro</td>\n",
       "      <td>Non-verbal</td>\n",
       "    </tr>\n",
       "    <tr>\n",
       "      <th>2</th>\n",
       "      <td>40.356563</td>\n",
       "      <td>43.377187</td>\n",
       "      <td>NaN</td>\n",
       "      <td>0 days 00:00:40.356563</td>\n",
       "      <td>0 days 00:00:43.377188</td>\n",
       "      <td>13</td>\n",
       "      <td>Micro</td>\n",
       "      <td>NaN</td>\n",
       "    </tr>\n",
       "    <tr>\n",
       "      <th>24</th>\n",
       "      <td>151.461563</td>\n",
       "      <td>152.288437</td>\n",
       "      <td>NaN</td>\n",
       "      <td>0 days 00:02:31.461563</td>\n",
       "      <td>0 days 00:02:32.288437</td>\n",
       "      <td>3</td>\n",
       "      <td>Micro</td>\n",
       "      <td>NaN</td>\n",
       "    </tr>\n",
       "    <tr>\n",
       "      <th>25</th>\n",
       "      <td>231.482812</td>\n",
       "      <td>231.499687</td>\n",
       "      <td>NaN</td>\n",
       "      <td>0 days 00:03:51.482812</td>\n",
       "      <td>0 days 00:03:51.499687</td>\n",
       "      <td>1</td>\n",
       "      <td>Micro</td>\n",
       "      <td>yelling</td>\n",
       "    </tr>\n",
       "    <tr>\n",
       "      <th>27</th>\n",
       "      <td>239.329688</td>\n",
       "      <td>239.380313</td>\n",
       "      <td>NaN</td>\n",
       "      <td>0 days 00:03:59.329688</td>\n",
       "      <td>0 days 00:03:59.380313</td>\n",
       "      <td>1</td>\n",
       "      <td>Micro</td>\n",
       "      <td>NaN</td>\n",
       "    </tr>\n",
       "  </tbody>\n",
       "</table>\n",
       "</div>"
      ],
      "text/plain": [
       "         Start        Stop  Unnamed: 2         Start_formatted  \\\n",
       "0    19.465312   19.617188         NaN  0 days 00:00:19.465312   \n",
       "2    40.356563   43.377187         NaN  0 days 00:00:40.356563   \n",
       "24  151.461563  152.288437         NaN  0 days 00:02:31.461563   \n",
       "25  231.482812  231.499687         NaN  0 days 00:03:51.482812   \n",
       "27  239.329688  239.380313         NaN  0 days 00:03:59.329688   \n",
       "\n",
       "            Stop_formatted  Speaker Actual     Clarity  \n",
       "0   0 days 00:00:19.617188        7  Micro  Non-verbal  \n",
       "2   0 days 00:00:43.377188       13  Micro         NaN  \n",
       "24  0 days 00:02:32.288437        3  Micro         NaN  \n",
       "25  0 days 00:03:51.499687        1  Micro     yelling  \n",
       "27  0 days 00:03:59.380313        1  Micro         NaN  "
      ]
     },
     "execution_count": 18,
     "metadata": {},
     "output_type": "execute_result"
    }
   ],
   "source": [
    "# Making dataframe of all instances where Micro and Frank were tagged as anything other than 6 and 18 respectively\n",
    "incorrect = (pd.merge(df,correct, indicator=True, how='outer')\n",
    "         .query('_merge==\"left_only\"')\n",
    "         .drop('_merge', axis=1))\n",
    "incorrect.head()"
   ]
  },
  {
   "cell_type": "code",
   "execution_count": 19,
   "metadata": {},
   "outputs": [
    {
     "data": {
      "text/html": [
       "<div>\n",
       "<style scoped>\n",
       "    .dataframe tbody tr th:only-of-type {\n",
       "        vertical-align: middle;\n",
       "    }\n",
       "\n",
       "    .dataframe tbody tr th {\n",
       "        vertical-align: top;\n",
       "    }\n",
       "\n",
       "    .dataframe thead th {\n",
       "        text-align: right;\n",
       "    }\n",
       "</style>\n",
       "<table border=\"1\" class=\"dataframe\">\n",
       "  <thead>\n",
       "    <tr style=\"text-align: right;\">\n",
       "      <th></th>\n",
       "      <th>Start</th>\n",
       "      <th>Stop</th>\n",
       "      <th>Unnamed: 2</th>\n",
       "      <th>Start_formatted</th>\n",
       "      <th>Stop_formatted</th>\n",
       "      <th>Speaker</th>\n",
       "      <th>Actual</th>\n",
       "      <th>Clarity</th>\n",
       "    </tr>\n",
       "  </thead>\n",
       "  <tbody>\n",
       "    <tr>\n",
       "      <th>2</th>\n",
       "      <td>37.352812</td>\n",
       "      <td>37.943438</td>\n",
       "      <td>NaN</td>\n",
       "      <td>0 days 00:00:37.352813</td>\n",
       "      <td>0 days 00:00:37.943438</td>\n",
       "      <td>6</td>\n",
       "      <td>Micro</td>\n",
       "      <td>NaN</td>\n",
       "    </tr>\n",
       "    <tr>\n",
       "      <th>4</th>\n",
       "      <td>45.284062</td>\n",
       "      <td>51.122813</td>\n",
       "      <td>NaN</td>\n",
       "      <td>0 days 00:00:45.284063</td>\n",
       "      <td>0 days 00:00:51.122813</td>\n",
       "      <td>6</td>\n",
       "      <td>Micro</td>\n",
       "      <td>NaN</td>\n",
       "    </tr>\n",
       "    <tr>\n",
       "      <th>5</th>\n",
       "      <td>52.793438</td>\n",
       "      <td>57.602812</td>\n",
       "      <td>NaN</td>\n",
       "      <td>0 days 00:00:52.793438</td>\n",
       "      <td>0 days 00:00:57.602813</td>\n",
       "      <td>6</td>\n",
       "      <td>Micro</td>\n",
       "      <td>NaN</td>\n",
       "    </tr>\n",
       "    <tr>\n",
       "      <th>6</th>\n",
       "      <td>59.205937</td>\n",
       "      <td>63.171563</td>\n",
       "      <td>NaN</td>\n",
       "      <td>0 days 00:00:59.205938</td>\n",
       "      <td>0 days 00:01:03.171563</td>\n",
       "      <td>6</td>\n",
       "      <td>Micro</td>\n",
       "      <td>NaN</td>\n",
       "    </tr>\n",
       "    <tr>\n",
       "      <th>7</th>\n",
       "      <td>75.777187</td>\n",
       "      <td>76.350938</td>\n",
       "      <td>NaN</td>\n",
       "      <td>0 days 00:01:15.777187</td>\n",
       "      <td>0 days 00:01:16.350938</td>\n",
       "      <td>6</td>\n",
       "      <td>Micro</td>\n",
       "      <td>NaN</td>\n",
       "    </tr>\n",
       "  </tbody>\n",
       "</table>\n",
       "</div>"
      ],
      "text/plain": [
       "       Start       Stop  Unnamed: 2         Start_formatted  \\\n",
       "2  37.352812  37.943438         NaN  0 days 00:00:37.352813   \n",
       "4  45.284062  51.122813         NaN  0 days 00:00:45.284063   \n",
       "5  52.793438  57.602812         NaN  0 days 00:00:52.793438   \n",
       "6  59.205937  63.171563         NaN  0 days 00:00:59.205938   \n",
       "7  75.777187  76.350938         NaN  0 days 00:01:15.777187   \n",
       "\n",
       "           Stop_formatted  Speaker Actual Clarity  \n",
       "2  0 days 00:00:37.943438        6  Micro     NaN  \n",
       "4  0 days 00:00:51.122813        6  Micro     NaN  \n",
       "5  0 days 00:00:57.602813        6  Micro     NaN  \n",
       "6  0 days 00:01:03.171563        6  Micro     NaN  \n",
       "7  0 days 00:01:16.350938        6  Micro     NaN  "
      ]
     },
     "execution_count": 19,
     "metadata": {},
     "output_type": "execute_result"
    }
   ],
   "source": [
    "correct.head()"
   ]
  },
  {
   "cell_type": "code",
   "execution_count": 20,
   "metadata": {},
   "outputs": [
    {
     "name": "stdout",
     "output_type": "stream",
     "text": [
      "2.126249999999998\n",
      "0.033749999999997726\n",
      "5.8387500000000045\n"
     ]
    }
   ],
   "source": [
    "correct_lengths = correct['Stop'] - correct['Start']\n",
    "print(correct_lengths.mean())\n",
    "print(correct_lengths.min())\n",
    "print(correct_lengths.max())"
   ]
  },
  {
   "cell_type": "code",
   "execution_count": 21,
   "metadata": {},
   "outputs": [
    {
     "name": "stdout",
     "output_type": "stream",
     "text": [
      "0.7654017857142863\n",
      "0.01687499999997044\n",
      "4.066875000000039\n"
     ]
    }
   ],
   "source": [
    "incorrect_lengths = incorrect['Stop'] - incorrect['Start']\n",
    "print(incorrect_lengths.mean())\n",
    "print(incorrect_lengths.min())\n",
    "print(incorrect_lengths.max())"
   ]
  },
  {
   "cell_type": "code",
   "execution_count": 24,
   "metadata": {},
   "outputs": [
    {
     "data": {
      "image/png": "[encoded data removed]",
      "text/plain": [
       "<Figure size 640x480 with 1 Axes>"
      ]
     },
     "metadata": {},
     "output_type": "display_data"
    }
   ],
   "source": [
    "import numpy\n",
    "import matplotlib.pyplot as plt\n",
    "\n",
    "fig = plt.figure()\n",
    "plt.hist(correct_lengths, alpha=0.5, label='Correct')\n",
    "plt.hist(incorrect_lengths, alpha=0.5, label='Incorrect')\n",
    "plt.legend(loc='upper right')\n",
    "plt.show()\n",
    "#fig.savefig('/home/ada/Documents/DTA/Thesis/Data/segment_lengths.png', dpi=fig.dpi)"
   ]
  },
  {
   "cell_type": "code",
   "execution_count": 28,
   "metadata": {},
   "outputs": [
    {
     "data": {
      "image/png": "[encoded data removed]",
      "text/plain": [
       "<Figure size 640x480 with 1 Axes>"
      ]
     },
     "metadata": {},
     "output_type": "display_data"
    }
   ],
   "source": [
    "df = pd.concat([correct_lengths, incorrect_lengths], axis=1)\n",
    "df.columns = ['Correct', 'Incorrect']\n",
    "ax = df.plot.box()\n",
    "#ax.figure.savefig('/home/ada/Documents/DTA/Thesis/Data/the_punisher_E3_boxplot.png')"
   ]
  },
  {
   "attachments": {},
   "cell_type": "markdown",
   "metadata": {},
   "source": [
    "# Updated Adjusted Rand Index\n",
    "\n",
    "After removing segments of less than 0.4s"
   ]
  },
  {
   "cell_type": "code",
   "execution_count": 11,
   "metadata": {},
   "outputs": [],
   "source": [
    "df = pd.read_csv(\"/home/ada/Documents/DTA/Thesis/Data/preliminary_errorAnalysis_punisher.csv\")\n",
    "df = df[df['Stop'] - df['Start'] > 0.4]"
   ]
  },
  {
   "cell_type": "code",
   "execution_count": 12,
   "metadata": {},
   "outputs": [
    {
     "name": "stderr",
     "output_type": "stream",
     "text": [
      "/tmp/ipykernel_102269/3102052366.py:3: SettingWithCopyWarning: \n",
      "A value is trying to be set on a copy of a slice from a DataFrame.\n",
      "Try using .loc[row_indexer,col_indexer] = value instead\n",
      "\n",
      "See the caveats in the documentation: https://pandas.pydata.org/pandas-docs/stable/user_guide/indexing.html#returning-a-view-versus-a-copy\n",
      "  filtered_df['Actual'] = filtered_df['Actual'].str.replace('tied up man','Micro')\n"
     ]
    }
   ],
   "source": [
    "df = df[['Speaker', 'Actual']]\n",
    "filtered_df = df[df['Actual'].notnull()]\n",
    "filtered_df['Actual'] = filtered_df['Actual'].str.replace('tied up man','Micro')\n",
    "no_none = filtered_df.drop(filtered_df[filtered_df.Actual == \"none\"].index)"
   ]
  },
  {
   "cell_type": "code",
   "execution_count": 13,
   "metadata": {},
   "outputs": [],
   "source": [
    "speaker = filtered_df['Speaker'].tolist()\n",
    "actual = filtered_df['Actual'].tolist()"
   ]
  },
  {
   "cell_type": "code",
   "execution_count": 14,
   "metadata": {},
   "outputs": [
    {
     "data": {
      "text/plain": [
       "0.507114800266805"
      ]
     },
     "execution_count": 14,
     "metadata": {},
     "output_type": "execute_result"
    }
   ],
   "source": [
    "adjusted_rand_score(speaker, actual)"
   ]
  },
  {
   "cell_type": "code",
   "execution_count": 15,
   "metadata": {},
   "outputs": [],
   "source": [
    "speaker = no_none['Speaker'].tolist()\n",
    "actual = no_none['Actual'].tolist()"
   ]
  },
  {
   "cell_type": "code",
   "execution_count": 16,
   "metadata": {},
   "outputs": [
    {
     "data": {
      "text/plain": [
       "0.48322367076709305"
      ]
     },
     "execution_count": 16,
     "metadata": {},
     "output_type": "execute_result"
    }
   ],
   "source": [
    "adjusted_rand_score(speaker, actual)"
   ]
  }
 ],
 "metadata": {
  "kernelspec": {
   "display_name": "Python 3.8.12 ('Python')",
   "language": "python",
   "name": "python3"
  },
  "language_info": {
   "codemirror_mode": {
    "name": "ipython",
    "version": 3
   },
   "file_extension": ".py",
   "mimetype": "text/x-python",
   "name": "python",
   "nbconvert_exporter": "python",
   "pygments_lexer": "ipython3",
   "version": "3.8.15 (default, Nov 24 2022, 15:19:38) \n[GCC 11.2.0]"
  },
  "orig_nbformat": 4,
  "vscode": {
   "interpreter": {
    "hash": "1a72c8ec7c8d26faed1246e9b2177c90c8a1608af99f2afd6b83f10dce48d407"
   }
  }
 },
 "nbformat": 4,
 "nbformat_minor": 2
}
