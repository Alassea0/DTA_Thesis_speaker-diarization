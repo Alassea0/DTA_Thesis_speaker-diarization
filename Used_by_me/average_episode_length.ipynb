{
 "cells": [
  {
   "cell_type": "code",
   "execution_count": 23,
   "metadata": {},
   "outputs": [],
   "source": [
    "import pandas as pd\n",
    "import numpy as np"
   ]
  },
  {
   "cell_type": "code",
   "execution_count": 2,
   "metadata": {},
   "outputs": [],
   "source": [
    "gossip_girl = pd.read_csv(\"/home/ada/Documents/DTA/Thesis/Data/Clustered_final/Gossip_Girl.csv\")\n",
    "jane = pd.read_csv(\"/home/ada/Documents/DTA/Thesis/Data/Clustered_final/Jane_the_Virgin.csv\")\n",
    "pretty = pd.read_csv(\"/home/ada/Documents/DTA/Thesis/Data/Clustered_final/Pretty_Little_Liars.csv\")\n",
    "bridgerton = pd.read_csv(\"/home/ada/Documents/DTA/Thesis/Data/Clustered_final/Bridgerton.csv\")\n",
    "\n",
    "narcos = pd.read_csv(\"/home/ada/Documents/DTA/Thesis/Data/Clustered_final/Narcos.csv\")\n",
    "spartacus = pd.read_csv(\"/home/ada/Documents/DTA/Thesis/Data/Clustered_final/Spartacus.csv\")\n",
    "the_wire = pd.read_csv(\"/home/ada/Documents/DTA/Thesis/Data/Clustered_final/The_Wire.csv\")\n",
    "punisher = pd.read_csv(\"/home/ada/Documents/DTA/Thesis/Data/Clustered_final/The_Punisher.csv\")"
   ]
  },
  {
   "cell_type": "code",
   "execution_count": 50,
   "metadata": {},
   "outputs": [],
   "source": [
    "def sec_to_min(second):\n",
    "    minute = second/60\n",
    "    return minute\n",
    "\n",
    "def sec_to_hours(second):\n",
    "    minute = second/3600\n",
    "    return minute"
   ]
  },
  {
   "cell_type": "code",
   "execution_count": 10,
   "metadata": {},
   "outputs": [],
   "source": [
    "# Checking longest episodes of each show to make sure no other shows have errors like Gossip Girl does\n",
    "\n",
    "def check_error(df):\n",
    "    x = df.Episode_length.unique()\n",
    "    x = sorted(x)\n",
    "    print(x)"
   ]
  },
  {
   "cell_type": "code",
   "execution_count": 17,
   "metadata": {},
   "outputs": [
    {
     "name": "stdout",
     "output_type": "stream",
     "text": [
      "[2842.0, 2934.0, 2950.5, 2960.0, 2966.5, 2994.0, 3074.0, 3078.5, 3082.0, 3084.5, 3110.5, 3148.5, 3190.5, 3230.5, 3274.5, 3288.5, 3296.5, 3306.5, 3310.5, 3410.5, 3437.0, 3458.5, 3460.5, 3472.5, 3482.5]\n"
     ]
    }
   ],
   "source": [
    "check_error(punisher)\n",
    "\n",
    "# checked all, onlt Gossip Girl has the error, described in next part"
   ]
  },
  {
   "attachments": {},
   "cell_type": "markdown",
   "metadata": {},
   "source": [
    "# Women"
   ]
  },
  {
   "cell_type": "code",
   "execution_count": 25,
   "metadata": {},
   "outputs": [
    {
     "name": "stdout",
     "output_type": "stream",
     "text": [
      "50.9640873015873\n"
     ]
    }
   ],
   "source": [
    "sec_to_min(gossip_girl.Episode_length.unique().mean())"
   ]
  },
  {
   "cell_type": "code",
   "execution_count": 51,
   "metadata": {},
   "outputs": [
    {
     "name": "stdout",
     "output_type": "stream",
     "text": [
      "42.10021367521367\n",
      "34.18565390625\n"
     ]
    }
   ],
   "source": [
    "# There is an error with the data from Gossip Girl: 3 of the episodes are 3x as long as they should be, containing 2 episodes worth of silence after finishing the episode. We want to remove these when calculating the average episode length\n",
    "lengths = gossip_girl.Episode_length.unique()\n",
    "lengths = sorted(lengths)\n",
    "correct = lengths[:-3]\n",
    "print(sec_to_min(np.mean(correct)))\n",
    "\n",
    "# Prints total length of processed data from each TV show in hours\n",
    "gossip_girl = gossip_girl.sort_values(by=['Start'], ascending=True)\n",
    "print(sec_to_hours(gossip_girl.Stop.iloc[-1]))"
   ]
  },
  {
   "cell_type": "code",
   "execution_count": 52,
   "metadata": {},
   "outputs": [
    {
     "name": "stdout",
     "output_type": "stream",
     "text": [
      "42.075\n",
      "30.83658515625\n"
     ]
    }
   ],
   "source": [
    "print(sec_to_min(jane.Episode_length.unique().mean()))\n",
    "\n",
    "jane = jane.sort_values(by=['Start'], ascending=True)\n",
    "print(sec_to_hours(jane.Stop.iloc[-1]))"
   ]
  },
  {
   "cell_type": "code",
   "execution_count": 53,
   "metadata": {},
   "outputs": [
    {
     "name": "stdout",
     "output_type": "stream",
     "text": [
      "43.25711382113821\n",
      "33.83943046875\n"
     ]
    }
   ],
   "source": [
    "print(sec_to_min(pretty.Episode_length.unique().mean()))\n",
    "\n",
    "pretty = pretty.sort_values(by=['Start'], ascending=True)\n",
    "(print(sec_to_hours(pretty.Stop.iloc[-1])))"
   ]
  },
  {
   "cell_type": "code",
   "execution_count": 54,
   "metadata": {},
   "outputs": [
    {
     "name": "stdout",
     "output_type": "stream",
     "text": [
      "62.48645833333333\n",
      "16.617822656250002\n"
     ]
    }
   ],
   "source": [
    "print(sec_to_min(bridgerton.Episode_length.unique().mean()))\n",
    "\n",
    "bridgerton = bridgerton.sort_values(by=['Start'], ascending=True)\n",
    "(print(sec_to_hours(bridgerton.Stop.iloc[-1])))"
   ]
  },
  {
   "attachments": {},
   "cell_type": "markdown",
   "metadata": {},
   "source": [
    "# Men"
   ]
  },
  {
   "cell_type": "code",
   "execution_count": 55,
   "metadata": {},
   "outputs": [
    {
     "name": "stdout",
     "output_type": "stream",
     "text": [
      "51.72666666666667\n",
      "25.82119453125\n"
     ]
    }
   ],
   "source": [
    "print(sec_to_min(narcos.Episode_length.unique().mean()))\n",
    "\n",
    "narcos = narcos.sort_values(by=['Start'], ascending=True)\n",
    "(print(sec_to_hours(narcos.Stop.iloc[-1])))"
   ]
  },
  {
   "cell_type": "code",
   "execution_count": 56,
   "metadata": {},
   "outputs": [
    {
     "name": "stdout",
     "output_type": "stream",
     "text": [
      "54.88535353535353\n",
      "30.135907031250003\n"
     ]
    }
   ],
   "source": [
    "print(sec_to_min(spartacus.Episode_length.unique().mean()))\n",
    "\n",
    "spartacus = spartacus.sort_values(by=['Start'], ascending=True)\n",
    "(print(sec_to_hours(spartacus.Stop.iloc[-1])))"
   ]
  },
  {
   "cell_type": "code",
   "execution_count": 57,
   "metadata": {},
   "outputs": [
    {
     "name": "stdout",
     "output_type": "stream",
     "text": [
      "58.56527777777777\n",
      "36.06064453125\n"
     ]
    }
   ],
   "source": [
    "print(sec_to_min(the_wire.Episode_length.unique().mean()))\n",
    "\n",
    "the_wire = the_wire.sort_values(by=['Start'], ascending=True)\n",
    "(print(sec_to_hours(the_wire.Stop.iloc[-1])))"
   ]
  },
  {
   "cell_type": "code",
   "execution_count": 58,
   "metadata": {},
   "outputs": [
    {
     "name": "stdout",
     "output_type": "stream",
     "text": [
      "53.22933333333334\n",
      "23.014464843750005\n"
     ]
    }
   ],
   "source": [
    "print(sec_to_min(punisher.Episode_length.unique().mean()))\n",
    "\n",
    "punisher = punisher.sort_values(by=['Start'], ascending=True)\n",
    "(print(sec_to_hours(punisher.Stop.iloc[-1])))"
   ]
  }
 ],
 "metadata": {
  "kernelspec": {
   "display_name": "Python",
   "language": "python",
   "name": "python3"
  },
  "language_info": {
   "codemirror_mode": {
    "name": "ipython",
    "version": 3
   },
   "file_extension": ".py",
   "mimetype": "text/x-python",
   "name": "python",
   "nbconvert_exporter": "python",
   "pygments_lexer": "ipython3",
   "version": "3.8.15"
  },
  "orig_nbformat": 4,
  "vscode": {
   "interpreter": {
    "hash": "1a72c8ec7c8d26faed1246e9b2177c90c8a1608af99f2afd6b83f10dce48d407"
   }
  }
 },
 "nbformat": 4,
 "nbformat_minor": 2
}
