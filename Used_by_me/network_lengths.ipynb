{
 "cells": [
  {
   "cell_type": "code",
   "execution_count": 2,
   "metadata": {},
   "outputs": [],
   "source": [
    "import pandas as pd\n",
    "import networkx as nx\n",
    "from itertools import combinations"
   ]
  },
  {
   "cell_type": "code",
   "execution_count": 54,
   "metadata": {},
   "outputs": [],
   "source": [
    "gossip_girl = pd.read_csv(\"/home/ada/Documents/DTA/Thesis/Data/Clustered_final/Processed/Processed_Gossip_Girl.csv\")\n",
    "jane = pd.read_csv(\"/home/ada/Documents/DTA/Thesis/Data/Clustered_final/Processed/Processed_Jane_the_Virgin.csv\")\n",
    "pretty = pd.read_csv(\"/home/ada/Documents/DTA/Thesis/Data/Clustered_final/Processed/Processed_Pretty_Little_Liars.csv\")\n",
    "bridgerton = pd.read_csv(\"/home/ada/Documents/DTA/Thesis/Data/Clustered_final/Processed/Processed_Bridgerton.csv\")\n",
    "\n",
    "narcos = pd.read_csv(\"/home/ada/Documents/DTA/Thesis/Data/Clustered_final/Processed/Processed_Narcos.csv\")\n",
    "spartacus = pd.read_csv(\"/home/ada/Documents/DTA/Thesis/Data/Clustered_final/Processed/Processed_Spartacus.csv\")\n",
    "the_wire = pd.read_csv(\"/home/ada/Documents/DTA/Thesis/Data/Clustered_final/Processed/Processed_The_Wire.csv\")\n",
    "punisher = pd.read_csv(\"/home/ada/Documents/DTA/Thesis/Data/Clustered_final/Processed/Processed_The_Punisher.csv\")\n"
   ]
  },
  {
   "cell_type": "code",
   "execution_count": 55,
   "metadata": {},
   "outputs": [],
   "source": [
    "\n",
    "def get_G_interactions(df):\n",
    "    speaker_list = df['Speaker'].tolist()\n",
    "    G = nx.Graph()\n",
    "    si, ei = 0, 2 #start index, end index\n",
    "    while ei < len(speaker_list):\n",
    "        interaction = []\n",
    "        for character in set(speaker_list[si : ei]):\n",
    "            if ' ' in character:\n",
    "                interaction.extend(character.split())\n",
    "            else:\n",
    "                interaction.append(character)\n",
    "        interaction = set(interaction)\n",
    "        if len(interaction) > 1:\n",
    "            for sp1, sp2 in combinations(interaction, 2):\n",
    "                if G.has_edge(sp1, sp2):\n",
    "                    G[sp1][sp2]['weight'] += 1\n",
    "                else:\n",
    "                    G.add_edge(sp1, sp2, weight=1)\n",
    "        si += 1\n",
    "        ei += 1\n",
    "\n",
    "    print('# interactions:', G.size(weight='weight'))"
   ]
  },
  {
   "cell_type": "code",
   "execution_count": 56,
   "metadata": {},
   "outputs": [],
   "source": [
    "def fix_speaker(df):\n",
    "    df['Speaker'] = df['Speaker'].astype(str)\n",
    "    # Add \"SPEAKER_\" to speaker numbers with 2 digits and \"SPEAKER_0\" to speaker number with 1 digit to prevent problems later with str.replace\n",
    "    df['Speaker'] = df['Speaker'].apply(lambda x: \"SPEAKER_\" + x if len(x) == 2 else \"SPEAKER_0\" + x)\n",
    "    return df"
   ]
  },
  {
   "attachments": {},
   "cell_type": "markdown",
   "metadata": {},
   "source": [
    "## Women"
   ]
  },
  {
   "cell_type": "code",
   "execution_count": 57,
   "metadata": {},
   "outputs": [
    {
     "name": "stdout",
     "output_type": "stream",
     "text": [
      "# interactions: 17540.0\n"
     ]
    }
   ],
   "source": [
    "gossip_girl = fix_speaker(gossip_girl)\n",
    "get_G_interactions(gossip_girl)"
   ]
  },
  {
   "cell_type": "code",
   "execution_count": 58,
   "metadata": {},
   "outputs": [
    {
     "name": "stdout",
     "output_type": "stream",
     "text": [
      "# interactions: 19579.0\n"
     ]
    }
   ],
   "source": [
    "jane = fix_speaker(jane)\n",
    "get_G_interactions(jane)"
   ]
  },
  {
   "cell_type": "code",
   "execution_count": 59,
   "metadata": {},
   "outputs": [
    {
     "name": "stdout",
     "output_type": "stream",
     "text": [
      "# interactions: 16606.0\n"
     ]
    }
   ],
   "source": [
    "pretty = fix_speaker(pretty)\n",
    "get_G_interactions(pretty)"
   ]
  },
  {
   "cell_type": "code",
   "execution_count": 60,
   "metadata": {},
   "outputs": [
    {
     "name": "stdout",
     "output_type": "stream",
     "text": [
      "# interactions: 6619.0\n"
     ]
    }
   ],
   "source": [
    "bridgerton = fix_speaker(bridgerton)\n",
    "get_G_interactions(bridgerton)"
   ]
  },
  {
   "attachments": {},
   "cell_type": "markdown",
   "metadata": {},
   "source": [
    "## Men"
   ]
  },
  {
   "cell_type": "code",
   "execution_count": 61,
   "metadata": {},
   "outputs": [
    {
     "name": "stdout",
     "output_type": "stream",
     "text": [
      "# interactions: 10185.0\n"
     ]
    }
   ],
   "source": [
    "narcos = fix_speaker(narcos)\n",
    "get_G_interactions(narcos)"
   ]
  },
  {
   "cell_type": "code",
   "execution_count": 62,
   "metadata": {},
   "outputs": [
    {
     "name": "stdout",
     "output_type": "stream",
     "text": [
      "# interactions: 10889.0\n"
     ]
    }
   ],
   "source": [
    "spartacus = fix_speaker(spartacus)\n",
    "get_G_interactions(spartacus)"
   ]
  },
  {
   "cell_type": "code",
   "execution_count": 63,
   "metadata": {},
   "outputs": [
    {
     "name": "stdout",
     "output_type": "stream",
     "text": [
      "# interactions: 7263.0\n"
     ]
    }
   ],
   "source": [
    "punisher = fix_speaker(punisher)\n",
    "get_G_interactions(punisher)"
   ]
  },
  {
   "cell_type": "code",
   "execution_count": 64,
   "metadata": {},
   "outputs": [
    {
     "name": "stdout",
     "output_type": "stream",
     "text": [
      "# interactions: 15358.0\n"
     ]
    }
   ],
   "source": [
    "the_wire = fix_speaker(the_wire)\n",
    "get_G_interactions(the_wire)"
   ]
  }
 ],
 "metadata": {
  "interpreter": {
   "hash": "1a72c8ec7c8d26faed1246e9b2177c90c8a1608af99f2afd6b83f10dce48d407"
  },
  "kernelspec": {
   "display_name": "Python 3.8.12 ('Python')",
   "language": "python",
   "name": "python3"
  },
  "language_info": {
   "codemirror_mode": {
    "name": "ipython",
    "version": 3
   },
   "file_extension": ".py",
   "mimetype": "text/x-python",
   "name": "python",
   "nbconvert_exporter": "python",
   "pygments_lexer": "ipython3",
   "version": "3.8.15 (default, Nov 24 2022, 15:19:38) \n[GCC 11.2.0]"
  },
  "orig_nbformat": 4
 },
 "nbformat": 4,
 "nbformat_minor": 2
}
